{
 "cells": [
  {
   "cell_type": "code",
   "execution_count": 3,
   "metadata": {
    "collapsed": true
   },
   "outputs": [],
   "source": [
    "import json\n",
    "import requests\n"
   ]
  },
  {
   "cell_type": "code",
   "execution_count": 3,
   "metadata": {
    "collapsed": true
   },
   "outputs": [
    {
     "name": "stdout",
     "output_type": "stream",
     "text": [
      "b'<!DOCTYPE HTML PUBLIC \"-//W3C//DTD HTML 3.2 Final//EN\">\\n<title>400 Bad Request</title>\\n<h1>Bad Request</h1>\\n<p>The browser (or proxy) sent a request that this server could not understand.</p>\\n'\n"
     ]
    }
   ],
   "source": [
    "\n",
    "print(requests.get(\"http://127.0.0.1:8002/\").content)"
   ]
  },
  {
   "cell_type": "code",
   "execution_count": 74,
   "metadata": {
    "collapsed": true
   },
   "outputs": [
    {
     "name": "stdout",
     "output_type": "stream",
     "text": [
      "b'{\"data\":{\"token\":\"cm9vdDplZmE0NDQ5NDVmZWZhY2UyNGZhOGU0NDU2YzM3OGU0ZDBhZDVmNTllNmM5MWM5ODBhMTUwNzA1Yjc1YTgyZjZj\"},\"info\":\"Login successful\",\"status\":0}\\n'\nb'{\"data\":{},\"info\":\"User doesn\\'t exists\",\"status\":104}\\n'\n"
     ]
    }
   ],
   "source": [
    "# user login test\n",
    "files = [\n",
    "    ('json', (\"action\", json.dumps({\"action\": \"login\", \"param\": {\"username\": \"root\", \"password\": \"root\"}}), 'application/json'))\n",
    "]\n",
    "\n",
    "r = requests.post(\"http://127.0.0.1:8002/login\", files=files)\n",
    "\n",
    "print(r.content)\n",
    "\n",
    "\n",
    "files = [\n",
    "    ('json', (\"action\", json.dumps({\"action\": \"login\", \"param\": {\"username\": \"root1\", \"password\": \"root1\"}}), 'application/json'))\n",
    "]\n",
    "\n",
    "r = requests.post(\"http://127.0.0.1:8002/login\", files=files)\n",
    "print(r.content)"
   ]
  },
  {
   "cell_type": "code",
   "execution_count": 89,
   "metadata": {},
   "outputs": [
    {
     "name": "stdout",
     "output_type": "stream",
     "text": [
      "b'{\"data\":{\"dir_root\":\"/user/root\",\"file_name\":\"paper-othello.pdf\"},\"info\":\"Request successful\",\"status\":0}\\n'\nb'{\"data\":{\"dir_root\":\"/group/root\",\"file_name\":\"paper-othello.pdf\"},\"info\":\"Request successful\",\"status\":0}\\n'\n"
     ]
    }
   ],
   "source": [
    "# file upload test\n",
    "files = [\n",
    "    ('file', ('file', open(\"/home/Administrator/iffi/Projects/DB/proj_final/test_data/paper-othello.pdf\", 'rb'), 'application/octet')),\n",
    "    ('json', ('action', json.dumps({\"action\": \"upload_file\", \"token\": \"cm9vdDplZmE0NDQ5NDVmZWZhY2UyNGZhOGU0NDU2YzM3OGU0ZDBhZDVmNTllNmM5MWM5ODBhMTUwNzA1Yjc1YTgyZjZj\",\n",
    "                                      \"param\": {\"dir_root\": \"/user/root\", \"file_name\": \"paper-othello.pdf\"}}), 'application/json')),\n",
    "]\n",
    "\n",
    "r = requests.post(\"http://127.0.0.1:8002/file\", files=files)\n",
    "print(r.content)\n",
    "# file upload test\n",
    "files = [\n",
    "    ('file', ('file', open(\"/home/Administrator/iffi/Projects/DB/proj_final/test_data/paper-othello.pdf\", 'rb'), 'application/octet')),\n",
    "    ('json', ('action', json.dumps({\"action\": \"upload_file\", \"token\": \"cm9vdDplZmE0NDQ5NDVmZWZhY2UyNGZhOGU0NDU2YzM3OGU0ZDBhZDVmNTllNmM5MWM5ODBhMTUwNzA1Yjc1YTgyZjZj\",\n",
    "                                      \"param\": {\"dir_root\": \"/group/root\", \"file_name\": \"paper-othello.pdf\"}}), 'application/json')),\n",
    "]\n",
    "\n",
    "r = requests.post(\"http://127.0.0.1:8002/file\", files=files)\n",
    "print(r.content)\n"
   ]
  },
  {
   "cell_type": "code",
   "execution_count": 83,
   "metadata": {},
   "outputs": [
    {
     "name": "stdout",
     "output_type": "stream",
     "text": [
      "b'{\"data\":{\"dir_root\":\"/user/root\",\"file_name\":\"paper-othello.pdf\"},\"info\":\"Request successful\",\"status\":0}\\n'\nb'{\"data\":{\"dir_root\":\"/group/root\",\"file_name\":\"paper-othello.pdf\"},\"info\":\"Request successful\",\"status\":0}\\n'\n"
     ]
    }
   ],
   "source": [
    "# file delete test\n",
    "files = [\n",
    "    ('json', ('action', json.dumps({\"action\": \"del_file\", \"token\": \"cm9vdDplZmE0NDQ5NDVmZWZhY2UyNGZhOGU0NDU2YzM3OGU0ZDBhZDVmNTllNmM5MWM5ODBhMTUwNzA1Yjc1YTgyZjZj\",\n",
    "                                      \"param\": {\"dir_root\": \"/user/root\", \"file_name\": \"paper-othello.pdf\"}}), 'application/json')),\n",
    "]\n",
    "r = requests.post(\"http://127.0.0.1:8002/file\", files=files)\n",
    "print(r.content)\n",
    "\n",
    "files = [\n",
    "    ('json', ('action', json.dumps({\"action\": \"del_file\", \"token\": \"cm9vdDplZmE0NDQ5NDVmZWZhY2UyNGZhOGU0NDU2YzM3OGU0ZDBhZDVmNTllNmM5MWM5ODBhMTUwNzA1Yjc1YTgyZjZj\",\n",
    "                                      \"param\": {\"dir_root\": \"/group/root\", \"file_name\": \"paper-othello.pdf\"}}), 'application/json')),\n",
    "]\n",
    "r = requests.post(\"http://127.0.0.1:8002/file\", files=files)\n",
    "print(r.content)\n"
   ]
  },
  {
   "cell_type": "code",
   "execution_count": 78,
   "metadata": {},
   "outputs": [
    {
     "name": "stdout",
     "output_type": "stream",
     "text": [
      "b'{\"data\":{},\"info\":\"Token is invalid\",\"status\":100}\\n'\nb'{\"data\":{},\"info\":\"Token is invalid\",\"status\":100}\\n'\nb'{\"data\":{},\"info\":\"Token is invalid\",\"status\":100}\\n'\nb'{\"data\":{},\"info\":\"Token is invalid\",\"status\":100}\\n'\nb'{\"data\":{},\"info\":\"Token is invalid\",\"status\":100}\\n'\n"
     ]
    }
   ],
   "source": [
    "# file download test\n",
    "# invalid token test\n",
    "files = [\n",
    "    ('json', ('action', json.dumps({\"action\": \"read_file\", \"token\": \"cm9vdDo0YjMzlY2Y2NDBiODU4ZDFkYTFmNWVlZjQyOTM3ZWY5MWUyYWRiOTgyODVlZGM0N2FmZWNlZWM5N2RhOTk0\",\n",
    "                                      \"param\": {\"dir_root\": \"/user/root\", \"file_name\": \"paper-othello.pdf\"}}), 'application/json')),\n",
    "]\n",
    "r = requests.post(\"http://127.0.0.1:8002/file\", files=files)\n",
    "print(r.content)\n",
    "\n",
    "# invalid directory test\n",
    "files = [\n",
    "    ('json', ('action', json.dumps({\"action\": \"read_file\", \"token\": \"cm9vdDo0YjMzYzVlY2Y2NDBiODU4ZDFkYTFmNWVlZjQyOTM3ZWY5MWUyYWRiOTgyODVlZGM0N2FmZWNlZWM5N2RhOTk0\",\n",
    "                                      \"param\": {\"dir_root\": \"/user/roo\", \"file_name\": \"paper-othello.pdf\"}}), 'application/json')),\n",
    "]\n",
    "\n",
    "r = requests.post(\"http://127.0.0.1:8002/file\", files=files)\n",
    "print(r.content)\n",
    "\n",
    "# invalid file test\n",
    "files = [\n",
    "    ('json', ('action', json.dumps({\"action\": \"read_file\", \"token\": \"cm9vdDo0YjMzYzVlY2Y2NDBiODU4ZDFkYTFmNWVlZjQyOTM3ZWY5MWUyYWRiOTgyODVlZGM0N2FmZWNlZWM5N2RhOTk0\",\n",
    "                                      \"param\": {\"dir_root\": \"/user/root\", \"file_name\": \"paper-otheo.pdf\"}}), 'application/json')),\n",
    "]\n",
    "\n",
    "r = requests.post(\"http://127.0.0.1:8002/file\", files=files)\n",
    "print(r.content)\n",
    "\n",
    "# user file download test\n",
    "files = [\n",
    "    ('json', ('action', json.dumps({\"action\": \"read_file\", \"token\": \"cm9vdDo0YjMzYzVlY2Y2NDBiODU4ZDFkYTFmNWVlZjQyOTM3ZWY5MWUyYWRiOTgyODVlZGM0N2FmZWNlZWM5N2RhOTk0\",\n",
    "                                      \"param\": {\"dir_root\": \"/user/root\", \"file_name\": \"paper-othello.pdf\"}}), 'application/json')),\n",
    "]\n",
    "\n",
    "r = requests.post(\"http://127.0.0.1:8002/file\", files=files)\n",
    "print(r.content[0:100])\n",
    "\n",
    "# group file download test\n",
    "files = [\n",
    "    ('json', ('action', json.dumps({\"action\": \"read_file\", \"token\": \"cm9vdDo0YjMzYzVlY2Y2NDBiODU4ZDFkYTFmNWVlZjQyOTM3ZWY5MWUyYWRiOTgyODVlZGM0N2FmZWNlZWM5N2RhOTk0\",\n",
    "                                      \"param\": {\"dir_root\": \"/group/root\", \"file_name\": \"paper-othello.pdf\"}}), 'application/json')),\n",
    "]\n",
    "\n",
    "r = requests.post(\"http://127.0.0.1:8002/file\", files=files)\n",
    "print(r.content[0:100])"
   ]
  },
  {
   "cell_type": "code",
   "execution_count": 65,
   "metadata": {},
   "outputs": [
    {
     "name": "stdout",
     "output_type": "stream",
     "text": [
      "b'{\"data\":{},\"info\":\"Token is invalid\",\"status\":100}\\n'\nb'{\"data\":{},\"info\":\"Directory is invalid\",\"status\":103}\\n'\n"
     ]
    },
    {
     "name": "stdout",
     "output_type": "stream",
     "text": [
      "b'{\"data\":{},\"info\":\"Source file doesn\\'t exist\",\"status\":100}\\n'\nb'{\"data\":{\"dest_name\":\"paper.pdf\",\"dest_root\":\"/user/root\",\"dir_root\":\"/user/root\",\"file_name\":\"paper-othello.pdf\"},\"info\":\"Request successful\",\"status\":0}\\n'\nb'{\"data\":{\"dest_name\":\"paper-othello.pdf\",\"dest_root\":\"/user/root\",\"dir_root\":\"/user/root\",\"file_name\":\"paper.pdf\"},\"info\":\"Request successful\",\"status\":0}\\n'\n"
     ]
    },
    {
     "name": "stdout",
     "output_type": "stream",
     "text": [
      "b'{\"data\":{\"dest_name\":\"paper.pdf\",\"dest_root\":\"/group/root\",\"dir_root\":\"/group/root\",\"file_name\":\"paper-othello.pdf\"},\"info\":\"Request successful\",\"status\":0}\\n'\nb'{\"data\":{\"dest_name\":\"paper-othello.pdf\",\"dest_root\":\"/group/root\",\"dir_root\":\"/group/root\",\"file_name\":\"paper.pdf\"},\"info\":\"Request successful\",\"status\":0}\\n'\n"
     ]
    }
   ],
   "source": [
    "# file moving test\n",
    "# invalid token test\n",
    "files = [\n",
    "    ('json', ('action', json.dumps({\"action\": \"mv_file\", \"token\": \"cm9vdDo0YjMzlY2Y2NDBiODU4ZDFkYTFmNWVlZjQyOTM3ZWY5MWUyYWRiOTgyODVlZGM0N2FmZWNlZWM5N2RhOTk0\",\n",
    "                                      \"param\": {\"dir_root\": \"/user/root\", \"file_name\": \"paper-othello.pdf\", \"dest_root\": \"/group/root\", \"dest_name\": \"paper.pdf\"}}), 'application/json')),\n",
    "]\n",
    "r = requests.post(\"http://127.0.0.1:8002/file\", files=files)\n",
    "print(r.content)\n",
    "\n",
    "# invalid directory test\n",
    "files = [\n",
    "    ('json', ('action', json.dumps({\"action\": \"mv_file\", \"token\": \"cm9vdDo0YjMzYzVlY2Y2NDBiODU4ZDFkYTFmNWVlZjQyOTM3ZWY5MWUyYWRiOTgyODVlZGM0N2FmZWNlZWM5N2RhOTk0\",\n",
    "                                      \"param\": {\"dir_root\": \"/user/roo\", \"file_name\": \"paper-othello.pdf\", \"dest_root\": \"/group/root\", \"dest_name\": \"paper.pdf\"}}), 'application/json')),\n",
    "]\n",
    "\n",
    "r = requests.post(\"http://127.0.0.1:8002/file\", files=files)\n",
    "print(r.content)\n",
    "\n",
    "# invalid file test\n",
    "files = [\n",
    "    ('json', ('action', json.dumps({\"action\": \"mv_file\", \"token\": \"cm9vdDo0YjMzYzVlY2Y2NDBiODU4ZDFkYTFmNWVlZjQyOTM3ZWY5MWUyYWRiOTgyODVlZGM0N2FmZWNlZWM5N2RhOTk0\",\n",
    "                                      \"param\": {\"dir_root\": \"/user/root\", \"file_name\": \"paper-otheo.pdf\", \"dest_root\": \"/group/root\", \"dest_name\": \"paper.pdf\"}}), 'application/json')),\n",
    "]\n",
    "\n",
    "r = requests.post(\"http://127.0.0.1:8002/file\", files=files)\n",
    "print(r.content)\n",
    "\n",
    "# user file move test\n",
    "files = [\n",
    "    ('json', ('action', json.dumps({\"action\": \"mv_file\", \"token\": \"cm9vdDo0YjMzYzVlY2Y2NDBiODU4ZDFkYTFmNWVlZjQyOTM3ZWY5MWUyYWRiOTgyODVlZGM0N2FmZWNlZWM5N2RhOTk0\",\n",
    "                                      \"param\": {\"dir_root\": \"/user/root\", \"file_name\": \"paper-othello.pdf\", \"dest_root\": \"/user/root\", \"dest_name\": \"paper.pdf\"}}), 'application/json')),\n",
    "]\n",
    "\n",
    "r = requests.post(\"http://127.0.0.1:8002/file\", files=files)\n",
    "print(r.content)\n",
    "\n",
    "files = [\n",
    "    ('json', ('action', json.dumps({\"action\": \"mv_file\", \"token\": \"cm9vdDo0YjMzYzVlY2Y2NDBiODU4ZDFkYTFmNWVlZjQyOTM3ZWY5MWUyYWRiOTgyODVlZGM0N2FmZWNlZWM5N2RhOTk0\",\n",
    "                                      \"param\": {\"dir_root\": \"/user/root\", \"file_name\": \"paper.pdf\", \"dest_root\": \"/user/root\", \"dest_name\": \"paper-othello.pdf\"}}), 'application/json')),\n",
    "]\n",
    "\n",
    "r = requests.post(\"http://127.0.0.1:8002/file\", files=files)\n",
    "print(r.content)\n",
    "\n",
    "# group file move test\n",
    "files = [\n",
    "    ('json', ('action', json.dumps({\"action\": \"mv_file\", \"token\": \"cm9vdDo0YjMzYzVlY2Y2NDBiODU4ZDFkYTFmNWVlZjQyOTM3ZWY5MWUyYWRiOTgyODVlZGM0N2FmZWNlZWM5N2RhOTk0\",\n",
    "                                      \"param\": {\"dir_root\": \"/group/root\", \"file_name\": \"paper-othello.pdf\", \"dest_root\": \"/group/root\", \"dest_name\": \"paper.pdf\"}}), 'application/json')),\n",
    "]\n",
    "\n",
    "r = requests.post(\"http://127.0.0.1:8002/file\", files=files)\n",
    "print(r.content)\n",
    "\n",
    "files = [\n",
    "    ('json', ('action', json.dumps({\"action\": \"mv_file\", \"token\": \"cm9vdDo0YjMzYzVlY2Y2NDBiODU4ZDFkYTFmNWVlZjQyOTM3ZWY5MWUyYWRiOTgyODVlZGM0N2FmZWNlZWM5N2RhOTk0\",\n",
    "                                      \"param\": {\"dir_root\": \"/group/root\", \"file_name\": \"paper.pdf\", \"dest_root\": \"/group/root\", \"dest_name\": \"paper-othello.pdf\"}}), 'application/json')),\n",
    "]\n",
    "\n",
    "r = requests.post(\"http://127.0.0.1:8002/file\", files=files)\n",
    "print(r.content)\n",
    "\n",
    "# cross file move test\n",
    "files = [\n",
    "    ('json', ('action', json.dumps({\"action\": \"mv_file\", \"token\": \"cm9vdDo0YjMzYzVlY2Y2NDBiODU4ZDFkYTFmNWVlZjQyOTM3ZWY5MWUyYWRiOTgyODVlZGM0N2FmZWNlZWM5N2RhOTk0\",\n",
    "                                      \"param\": {\"dir_root\": \"/group/root\", \"file_name\": \"paper-othello.pdf\", \"dest_root\": \"/user/root\", \"dest_name\": \"paper.pdf\"}}), 'application/json')),\n",
    "]\n",
    "\n",
    "r = requests.post(\"http://127.0.0.1:8002/file\", files=files)\n",
    "print(r.content)\n",
    "\n",
    "files = [\n",
    "    ('json', ('action', json.dumps({\"action\": \"mv_file\", \"token\": \"cm9vdDo0YjMzYzVlY2Y2NDBiODU4ZDFkYTFmNWVlZjQyOTM3ZWY5MWUyYWRiOTgyODVlZGM0N2FmZWNlZWM5N2RhOTk0\",\n",
    "                                      \"param\": {\"dir_root\": \"/user/root\", \"file_name\": \"paper.pdf\", \"dest_root\": \"/group/root\", \"dest_name\": \"paper-othello.pdf\"}}), 'application/json')),\n",
    "]\n",
    "\n",
    "r = requests.post(\"http://127.0.0.1:8002/file\", files=files)\n",
    "print(r.content)"
   ]
  },
  {
   "cell_type": "code",
   "execution_count": 90,
   "metadata": {},
   "outputs": [
    {
     "name": "stdout",
     "output_type": "stream",
     "text": [
      "b'{\"data\":{},\"info\":\"Token is invalid\",\"status\":100}\\n'\nb'{\"data\":{},\"info\":\"Directory is invalid\",\"status\":103}\\n'\nb'{\"data\":{},\"info\":\"Source file doesn\\'t exist\",\"status\":100}\\n'\nb'{\"data\":{\"dest_name\":\"paper.pdf\",\"dest_root\":\"/user/root\",\"dir_root\":\"/user/root\",\"file_name\":\"paper-othello.pdf\"},\"info\":\"Request successful\",\"status\":0}\\n'\n"
     ]
    },
    {
     "name": "stdout",
     "output_type": "stream",
     "text": [
      "b'{\"data\":{\"dest_name\":\"paper.pdf\",\"dest_root\":\"/group/root\",\"dir_root\":\"/group/root\",\"file_name\":\"paper-othello.pdf\"},\"info\":\"Request successful\",\"status\":0}\\n'\nb'{\"data\":{\"dest_name\":\"paper1.pdf\",\"dest_root\":\"/user/root\",\"dir_root\":\"/group/root\",\"file_name\":\"paper-othello.pdf\"},\"info\":\"Request successful\",\"status\":0}\\n'\n"
     ]
    }
   ],
   "source": [
    "# file copy test\n",
    "# invalid token test\n",
    "files = [\n",
    "    ('json', ('action', json.dumps({\"action\": \"copy_file\", \"token\": \"cm9vdDplZmE0NDQ5NDVmZWZhY2UyNGZhOGU0NDU2YzM3OGU0ZDBhZDVmNTllNmM5MWM5ODBhMTUwNzA1Yjc1YTgZjZj\",\n",
    "                                      \"param\": {\"dir_root\": \"/user/root\", \"file_name\": \"paper-othello.pdf\", \"dest_root\": \"/group/root\", \"dest_name\": \"paper.pdf\"}}), 'application/json')),\n",
    "]\n",
    "r = requests.post(\"http://127.0.0.1:8002/file\", files=files)\n",
    "print(r.content)\n",
    "\n",
    "# invalid directory test\n",
    "files = [\n",
    "    ('json', ('action', json.dumps({\"action\": \"copy_file\", \"token\": \"cm9vdDplZmE0NDQ5NDVmZWZhY2UyNGZhOGU0NDU2YzM3OGU0ZDBhZDVmNTllNmM5MWM5ODBhMTUwNzA1Yjc1YTgyZjZj\",\n",
    "                                      \"param\": {\"dir_root\": \"/user/roo\", \"file_name\": \"paper-othello.pdf\", \"dest_root\": \"/group/root\", \"dest_name\": \"paper.pdf\"}}), 'application/json')),\n",
    "]\n",
    "\n",
    "r = requests.post(\"http://127.0.0.1:8002/file\", files=files)\n",
    "print(r.content)\n",
    "\n",
    "# invalid file test\n",
    "files = [\n",
    "    ('json', ('action', json.dumps({\"action\": \"copy_file\", \"token\": \"cm9vdDplZmE0NDQ5NDVmZWZhY2UyNGZhOGU0NDU2YzM3OGU0ZDBhZDVmNTllNmM5MWM5ODBhMTUwNzA1Yjc1YTgyZjZj\",\n",
    "                                      \"param\": {\"dir_root\": \"/user/root\", \"file_name\": \"paper-otheo.pdf\", \"dest_root\": \"/group/root\", \"dest_name\": \"paper.pdf\"}}), 'application/json')),\n",
    "]\n",
    "\n",
    "r = requests.post(\"http://127.0.0.1:8002/file\", files=files)\n",
    "print(r.content)\n",
    "\n",
    "# user file copy test\n",
    "files = [\n",
    "    ('json', ('action', json.dumps({\"action\": \"copy_file\", \"token\": \"cm9vdDplZmE0NDQ5NDVmZWZhY2UyNGZhOGU0NDU2YzM3OGU0ZDBhZDVmNTllNmM5MWM5ODBhMTUwNzA1Yjc1YTgyZjZj\",\n",
    "                                      \"param\": {\"dir_root\": \"/user/root\", \"file_name\": \"paper-othello.pdf\", \"dest_root\": \"/user/root\", \"dest_name\": \"paper.pdf\"}}), 'application/json')),\n",
    "]\n",
    "\n",
    "r = requests.post(\"http://127.0.0.1:8002/file\", files=files)\n",
    "print(r.content)\n",
    "\n",
    "# group file copy test\n",
    "files = [\n",
    "    ('json', ('action', json.dumps({\"action\": \"copy_file\", \"token\": \"cm9vdDplZmE0NDQ5NDVmZWZhY2UyNGZhOGU0NDU2YzM3OGU0ZDBhZDVmNTllNmM5MWM5ODBhMTUwNzA1Yjc1YTgyZjZj\",\n",
    "                                      \"param\": {\"dir_root\": \"/group/root\", \"file_name\": \"paper-othello.pdf\", \"dest_root\": \"/group/root\", \"dest_name\": \"paper.pdf\"}}), 'application/json')),\n",
    "]\n",
    "\n",
    "r = requests.post(\"http://127.0.0.1:8002/file\", files=files)\n",
    "print(r.content)\n",
    "\n",
    "\n",
    "# cross file copy test\n",
    "files = [\n",
    "    ('json', ('action', json.dumps({\"action\": \"copy_file\", \"token\": \"cm9vdDplZmE0NDQ5NDVmZWZhY2UyNGZhOGU0NDU2YzM3OGU0ZDBhZDVmNTllNmM5MWM5ODBhMTUwNzA1Yjc1YTgyZjZj\",\n",
    "                                      \"param\": {\"dir_root\": \"/group/root\", \"file_name\": \"paper-othello.pdf\", \"dest_root\": \"/user/root\", \"dest_name\": \"paper1.pdf\"}}), 'application/json')),\n",
    "]\n",
    "\n",
    "r = requests.post(\"http://127.0.0.1:8002/file\", files=files)\n",
    "print(r.content)\n"
   ]
  },
  {
   "cell_type": "code",
   "execution_count": 94,
   "metadata": {},
   "outputs": [
    {
     "name": "stdout",
     "output_type": "stream",
     "text": [
      "b'{\"data\":{\"dir_root\":\"/user/root\",\"file_name\":\"paper-othello.pdf\",\"meta_key\":\"version\",\"meta_val\":2},\"info\":\"Request successful\",\"status\":0}\\n'\nb'{\"data\":{\"dir_root\":\"/group/root\",\"file_name\":\"paper-othello.pdf\",\"meta\":{\"version\":\"2\"}},\"info\":\"Request successful\",\"status\":0}\\n'\n"
     ]
    }
   ],
   "source": [
    "# set meta test\n",
    "files = [\n",
    "    ('json', ('action', json.dumps({\"action\": \"set_meta\", \"token\": \"cm9vdDplZmE0NDQ5NDVmZWZhY2UyNGZhOGU0NDU2YzM3OGU0ZDBhZDVmNTllNmM5MWM5ODBhMTUwNzA1Yjc1YTgyZjZj\",\n",
    "                                      \"param\": {\"dir_root\": \"/user/root\", \"file_name\": \"paper-othello.pdf\", \"meta_key\": \"version\", \"meta_val\": 2}}), 'application/json')),\n",
    "]\n",
    "r = requests.post(\"http://127.0.0.1:8002/file\", files=files)\n",
    "print(r.content)\n",
    "\n",
    "# read meta test\n",
    "files = [\n",
    "    ('json', ('action', json.dumps({\"action\": \"read_meta\", \"token\": \"cm9vdDplZmE0NDQ5NDVmZWZhY2UyNGZhOGU0NDU2YzM3OGU0ZDBhZDVmNTllNmM5MWM5ODBhMTUwNzA1Yjc1YTgyZjZj\",\n",
    "                                      \"param\": {\"dir_root\": \"/group/root\", \"file_name\": \"paper-othello.pdf\"}}), 'application/json')),\n",
    "]\n",
    "r = requests.post(\"http://127.0.0.1:8002/file\", files=files)\n",
    "print(r.content)\n"
   ]
  },
  {
   "cell_type": "code",
   "execution_count": 107,
   "metadata": {},
   "outputs": [
    {
     "name": "stdout",
     "output_type": "stream",
     "text": [
      "b'{\"data\":{\"dir_name\":\"test\",\"dir_root\":\"/user/root\"},\"info\":\"Target directory already exists\",\"status\":100}\\n'\nb'{\"data\":{\"dir_read_num\":100,\"dir_read_offset\":0,\"dir_root\":\"/user/root\",\"entries\":[\"paper-othello.pdf\",\"/user/root/test\"],\"real_read_num\":1},\"info\":\"Request successful\",\"status\":0}\\n'\nb'{\"data\":{\"dir_name\":\"test\",\"dir_root\":\"/user/root\"},\"info\":\"Request successful\",\"status\":0}\\n'\n"
     ]
    }
   ],
   "source": [
    "# directory create test\n",
    "files = [\n",
    "    ('json', ('action', json.dumps({\"action\": \"create_dir\", \"token\": \"cm9vdDplZmE0NDQ5NDVmZWZhY2UyNGZhOGU0NDU2YzM3OGU0ZDBhZDVmNTllNmM5MWM5ODBhMTUwNzA1Yjc1YTgyZjZj\",\n",
    "                                      \"param\": {\"dir_root\": \"/user/root\", \"dir_name\": \"test\"}}), 'application/json')),\n",
    "]\n",
    "r = requests.post(\"http://127.0.0.1:8002/file\", files=files)\n",
    "print(r.content)\n",
    "\n",
    "# directory read test\n",
    "files = [\n",
    "    ('json', ('action', json.dumps({\"action\": \"read_dir\", \"token\": \"cm9vdDplZmE0NDQ5NDVmZWZhY2UyNGZhOGU0NDU2YzM3OGU0ZDBhZDVmNTllNmM5MWM5ODBhMTUwNzA1Yjc1YTgyZjZj\",\n",
    "                                      \"param\": {\"dir_root\": \"/user/root\", \"dir_read_offset\": 0, \"dir_read_num\": 100}}), 'application/json')),\n",
    "]\n",
    "r = requests.post(\"http://127.0.0.1:8002/file\", files=files)\n",
    "print(r.content)\n",
    "\n",
    "# directory delete test\n",
    "files = [\n",
    "    ('json', ('action', json.dumps({\"action\": \"del_dir\", \"token\": \"cm9vdDplZmE0NDQ5NDVmZWZhY2UyNGZhOGU0NDU2YzM3OGU0ZDBhZDVmNTllNmM5MWM5ODBhMTUwNzA1Yjc1YTgyZjZj\",\n",
    "                                      \"param\": {\"dir_root\": \"/user/root\", \"dir_name\": \"test\"}}), 'application/json')),\n",
    "]\n",
    "r = requests.post(\"http://127.0.0.1:8002/file\", files=files)\n",
    "print(r.content)\n",
    "\n"
   ]
  },
  {
   "cell_type": "code",
   "execution_count": null,
   "metadata": {},
   "outputs": [],
   "source": []
  }
 ],
 "metadata": {
  "kernelspec": {
   "display_name": "Python 2",
   "language": "python",
   "name": "python2"
  },
  "language_info": {
   "codemirror_mode": {
    "name": "ipython",
    "version": 2
   },
   "file_extension": ".py",
   "mimetype": "text/x-python",
   "name": "python",
   "nbconvert_exporter": "python",
   "pygments_lexer": "ipython2",
   "version": "2.7.6"
  }
 },
 "nbformat": 4,
 "nbformat_minor": 0
}
